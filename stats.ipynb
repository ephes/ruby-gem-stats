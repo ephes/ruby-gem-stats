{
 "cells": [
  {
   "cell_type": "markdown",
   "metadata": {
    "collapsed": true
   },
   "source": [
    "# convert dump to csv"
   ]
  },
  {
   "cell_type": "code",
   "execution_count": null,
   "metadata": {
    "collapsed": true
   },
   "outputs": [],
   "source": [
    "import re"
   ]
  },
  {
   "cell_type": "code",
   "execution_count": null,
   "metadata": {
    "collapsed": false
   },
   "outputs": [],
   "source": [
    "def dump_to_csv(dump_filename):\n",
    "    begin_regex = re.compile('^COPY.* stdin;$')\n",
    "    header_regex = re.compile(', ')\n",
    "    line_regex = re.compile('\\t+')\n",
    "    end_regex = re.compile('^\\\\\\.$')\n",
    "    line_count = 0\n",
    "    fast_forward = True\n",
    "    tables = []\n",
    "    with open(dump_filename, 'r') as f:\n",
    "        for line in f:\n",
    "            # check if line is the COPY statement (similar to INSERT)\n",
    "            if re.match(begin_regex, line):\n",
    "                target_table = line[5:line.find('(')-1]\n",
    "                tables.append(target_table)\n",
    "                result_file = open(target_table + '_.csv', 'w')\n",
    "                # CSV header, i.e. extract the column names\n",
    "                header = line[line.find('(')+1:line.find(')')]\n",
    "                header = re.sub(header_regex, ';', header)\n",
    "                result_file.write(header)\n",
    "                result_file.write('\\n')\n",
    "                result_file.close()\n",
    "                result_file = open(target_table + '.csv', 'a')\n",
    "                fast_forward = False\n",
    "                continue\n",
    "            # begin not yet found\n",
    "            if fast_forward:\n",
    "                continue\n",
    "            # end of COPY reached\n",
    "            if re.match(end_regex, line):\n",
    "                line_count = 0\n",
    "                fast_forward = True\n",
    "                continue\n",
    "            # convert tabs to ';' for CSV format\n",
    "            newline = re.sub(line_regex, ';', line)\n",
    "            result_file.write(newline)\n",
    "    return tables"
   ]
  },
  {
   "cell_type": "code",
   "execution_count": null,
   "metadata": {
    "collapsed": false
   },
   "outputs": [],
   "source": [
    "tables = dump_to_csv('public_postgresql/databases/PostgreSQL.sql')"
   ]
  },
  {
   "cell_type": "markdown",
   "metadata": {},
   "source": [
    "# evaluate gems"
   ]
  },
  {
   "cell_type": "code",
   "execution_count": null,
   "metadata": {
    "collapsed": false
   },
   "outputs": [],
   "source": [
    "import pandas as pd"
   ]
  },
  {
   "cell_type": "code",
   "execution_count": null,
   "metadata": {
    "collapsed": false
   },
   "outputs": [],
   "source": [
    "gems = pd.read_csv('rubygems.csv', ';', low_memory=False)"
   ]
  },
  {
   "cell_type": "code",
   "execution_count": null,
   "metadata": {
    "collapsed": false
   },
   "outputs": [],
   "source": [
    "gems.drop('name', axis=1, inplace=True)\n",
    "gems.drop('updated_at', axis=1, inplace=True)\n",
    "gems.drop('downloads', axis=1, inplace=True)\n",
    "gems.drop('slug', axis=1, inplace=True)\n",
    "gems['created_at'] = pd.to_datetime(gems['created_at'])\n",
    "gems = gems.set_index('created_at')\n",
    "gems['day'] = gems.index.date\n",
    "#gems.set_index('day', inplace=True)\n",
    "gems.rename(columns=lambda x: x.replace('id', 'gems'), inplace=True)"
   ]
  },
  {
   "cell_type": "code",
   "execution_count": null,
   "metadata": {
    "collapsed": false
   },
   "outputs": [],
   "source": [
    "# the actual magic :)\n",
    "gems_cumsum = gems.groupby('day').count().cumsum()"
   ]
  },
  {
   "cell_type": "code",
   "execution_count": null,
   "metadata": {
    "collapsed": true
   },
   "outputs": [],
   "source": [
    "gems_cumsum.to_csv('rubygems_cumsum.csv', ';')"
   ]
  },
  {
   "cell_type": "code",
   "execution_count": null,
   "metadata": {
    "collapsed": false
   },
   "outputs": [],
   "source": [
    "import matplotlib"
   ]
  },
  {
   "cell_type": "code",
   "execution_count": null,
   "metadata": {
    "collapsed": false
   },
   "outputs": [],
   "source": [
    "gems_cumsum = pd.read_csv('rubygems_cumsum.csv', ';')\n",
    "# plot to png\n",
    "gems_cumsum.plot().get_figure().savefig('rubygems.png')"
   ]
  },
  {
   "cell_type": "markdown",
   "metadata": {},
   "source": [
    "# dependencies"
   ]
  },
  {
   "cell_type": "code",
   "execution_count": null,
   "metadata": {
    "collapsed": false
   },
   "outputs": [],
   "source": [
    "deps = pd.read_csv('dependencies.csv', ';', low_memory=False)"
   ]
  },
  {
   "cell_type": "code",
   "execution_count": null,
   "metadata": {
    "collapsed": true
   },
   "outputs": [],
   "source": [
    "# drop what we don't need\n",
    "deps.drop('updated_at', axis=1, inplace=True)\n",
    "deps.drop('requirements', axis=1, inplace=True)\n",
    "deps.drop('rubygem_id', axis=1, inplace=True)\n",
    "deps.drop('version_id', axis=1, inplace=True)\n",
    "deps.drop('scope', axis=1, inplace=True)\n",
    "deps.drop('unresolved_name', axis=1, inplace=True)"
   ]
  },
  {
   "cell_type": "code",
   "execution_count": null,
   "metadata": {
    "collapsed": false
   },
   "outputs": [],
   "source": [
    "# treat created_at as datetime and use it as index since we deal with time series data\n",
    "deps['created_at'] = pd.to_datetime(deps['created_at'])\n",
    "deps.set_index('created_at', inplace=True)\n",
    "# reduce to day only\n",
    "deps['day'] = deps.index.date\n",
    "deps.rename(columns=lambda x: x.replace('id', 'deps'), inplace=True)"
   ]
  },
  {
   "cell_type": "code",
   "execution_count": null,
   "metadata": {
    "collapsed": false
   },
   "outputs": [],
   "source": [
    "# calculate the cumulative sums of the count of newly added dependencies for each day\n",
    "deps_cumsum = deps.groupby('day').count().cumsum()"
   ]
  },
  {
   "cell_type": "code",
   "execution_count": null,
   "metadata": {
    "collapsed": true
   },
   "outputs": [],
   "source": [
    "deps_cumsum.to_csv('dependencies_cumsum.csv', ';')"
   ]
  },
  {
   "cell_type": "code",
   "execution_count": null,
   "metadata": {
    "collapsed": true
   },
   "outputs": [],
   "source": [
    "#deps_cumsum = pd.read_csv('dependencies_cumsum.csv', ';')\n",
    "deps_cumsum.plot().get_figure().savefig('dependencies.png')"
   ]
  },
  {
   "cell_type": "markdown",
   "metadata": {},
   "source": [
    "# merge dataframes"
   ]
  },
  {
   "cell_type": "code",
   "execution_count": 1,
   "metadata": {
    "collapsed": false
   },
   "outputs": [],
   "source": [
    "import pandas as pd\n",
    "deps_cumsum = pd.read_csv('dependencies_cumsum.csv', ';')\n",
    "gems_cumsum = pd.read_csv('rubygems_cumsum.csv', ';')\n",
    "cumsum = pd.merge(deps_cumsum, gems_cumsum, on='day')"
   ]
  },
  {
   "cell_type": "code",
   "execution_count": 2,
   "metadata": {
    "collapsed": true
   },
   "outputs": [],
   "source": [
    "cumsum['deps_per_gem'] = cumsum['deps']/cumsum['gems']"
   ]
  },
  {
   "cell_type": "code",
   "execution_count": 3,
   "metadata": {
    "collapsed": true
   },
   "outputs": [],
   "source": [
    "cumsum['day'] = pd.to_datetime(cumsum['day'])\n",
    "cumsum.set_index('day', inplace=True)"
   ]
  },
  {
   "cell_type": "code",
   "execution_count": 5,
   "metadata": {
    "collapsed": false
   },
   "outputs": [],
   "source": [
    "cumsum.gems.plot(legend=True, style='b-')\n",
    "cumsum.deps.plot(legend=True, style='g-')\n",
    "plot = cumsum.deps_per_gem.plot(legend=True, style='r-', secondary_y=True)\n",
    "fig = plot.get_figure()\n",
    "fig.savefig('plot.png')\n",
    "# cumsum.plot().get_figure().savefig('plot.png')"
   ]
  },
  {
   "cell_type": "code",
   "execution_count": null,
   "metadata": {
    "collapsed": true
   },
   "outputs": [],
   "source": []
  }
 ],
 "metadata": {
  "kernelspec": {
   "display_name": "Python 3",
   "language": "python",
   "name": "python3"
  },
  "language_info": {
   "codemirror_mode": {
    "name": "ipython",
    "version": 3
   },
   "file_extension": ".py",
   "mimetype": "text/x-python",
   "name": "python",
   "nbconvert_exporter": "python",
   "pygments_lexer": "ipython3",
   "version": "3.5.1"
  }
 },
 "nbformat": 4,
 "nbformat_minor": 0
}
