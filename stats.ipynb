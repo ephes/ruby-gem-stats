{
 "cells": [
  {
   "cell_type": "code",
   "execution_count": 24,
   "metadata": {
    "collapsed": true
   },
   "outputs": [],
   "source": [
    "import re"
   ]
  },
  {
   "cell_type": "code",
   "execution_count": 53,
   "metadata": {
    "collapsed": false
   },
   "outputs": [],
   "source": [
    "def dump_to_csv(dump_filename):\n",
    "    begin_regex = re.compile('^COPY.* stdin;$')\n",
    "    header_regex = re.compile(', ')\n",
    "    line_regex = re.compile('\\t+')\n",
    "    end_regex = re.compile('^\\\\\\.$')\n",
    "    line_count = 0\n",
    "    fast_forward = True\n",
    "    tables = []\n",
    "    with open(dump_filename, 'r') as f:\n",
    "        for line in f:\n",
    "            # check if line is the COPY statement (similar to INSERT)\n",
    "            if re.match(begin_regex, line):\n",
    "                target_table = line[5:line.find('(')-1]\n",
    "                tables.append(target_table)\n",
    "                result_file = open(target_table + '_.csv', 'w')\n",
    "                # CSV header, i.e. extract the column names\n",
    "                header = line[line.find('(')+1:line.find(')')]\n",
    "                header = re.sub(header_regex, ';', header)\n",
    "                result_file.write(header)\n",
    "                result_file.write('\\n')\n",
    "                result_file.close()\n",
    "                result_file = open(target_table + '.csv', 'a')\n",
    "                fast_forward = False\n",
    "                continue\n",
    "            # begin not yet found\n",
    "            if fast_forward:\n",
    "                continue\n",
    "            # end of COPY reached\n",
    "            if re.match(end_regex, line):\n",
    "                line_count = 0\n",
    "                fast_forward = True\n",
    "                continue\n",
    "            # convert tabs to ';' for CSV format\n",
    "            newline = re.sub(line_regex, ';', line)\n",
    "            result_file.write(newline)\n",
    "    return tables"
   ]
  },
  {
   "cell_type": "code",
   "execution_count": 54,
   "metadata": {
    "collapsed": false
   },
   "outputs": [
    {
     "name": "stdout",
     "output_type": "stream",
     "text": [
      "dependencies: 0\n",
      "gem_downloads: 0\n",
      "linksets: 0\n",
      "rubygems: 0\n",
      "versions: 0\n"
     ]
    }
   ],
   "source": [
    "tables = dump_to_csv('public_postgresql/databases/PostgreSQL.sql')"
   ]
  },
  {
   "cell_type": "code",
   "execution_count": 63,
   "metadata": {
    "collapsed": false
   },
   "outputs": [],
   "source": [
    "import pandas as pd"
   ]
  },
  {
   "cell_type": "code",
   "execution_count": 193,
   "metadata": {
    "collapsed": false
   },
   "outputs": [],
   "source": [
    "gems = pd.read_csv('rubygems.csv', ';', low_memory=False)"
   ]
  },
  {
   "cell_type": "code",
   "execution_count": 194,
   "metadata": {
    "collapsed": false
   },
   "outputs": [],
   "source": [
    "gems.drop('name', axis=1, inplace=True)\n",
    "gems.drop('updated_at', axis=1, inplace=True)\n",
    "gems.drop('downloads', axis=1, inplace=True)\n",
    "gems.drop('slug', axis=1, inplace=True)\n",
    "gems['created_at'] = pd.to_datetime(gems['created_at'])\n",
    "gems = gems.set_index('created_at')\n",
    "gems['day'] = gems.index.date\n",
    "#gems.set_index('day', inplace=True)\n",
    "gems.rename(columns=lambda x: x.replace('id', 'gems'), inplace=True)"
   ]
  },
  {
   "cell_type": "code",
   "execution_count": 188,
   "metadata": {
    "collapsed": false
   },
   "outputs": [],
   "source": [
    "# the actual magic :)\n",
    "gems_cumsum = gems.groupby('day').count().cumsum()"
   ]
  },
  {
   "cell_type": "code",
   "execution_count": 189,
   "metadata": {
    "collapsed": true
   },
   "outputs": [],
   "source": [
    "gems_cumsum.to_csv('rubygems_cumsum.csv', ';')"
   ]
  },
  {
   "cell_type": "code",
   "execution_count": 190,
   "metadata": {
    "collapsed": false
   },
   "outputs": [],
   "source": [
    "import matplotlib"
   ]
  },
  {
   "cell_type": "code",
   "execution_count": 191,
   "metadata": {
    "collapsed": false
   },
   "outputs": [],
   "source": [
    "#gems_cumsum = pd.read_csv('counts.csv', ';')\n",
    "plot = gems_cumsum.plot()\n",
    "fig = plot.get_figure()\n",
    "fig.savefig('rubygems.png')"
   ]
  },
  {
   "cell_type": "code",
   "execution_count": 192,
   "metadata": {
    "collapsed": false
   },
   "outputs": [],
   "source": [
    "deps = pd.read_csv('dependencies.csv', ';', low_memory=False)"
   ]
  },
  {
   "cell_type": "code",
   "execution_count": null,
   "metadata": {
    "collapsed": false
   },
   "outputs": [],
   "source": []
  }
 ],
 "metadata": {
  "kernelspec": {
   "display_name": "Python 3",
   "language": "python",
   "name": "python3"
  },
  "language_info": {
   "codemirror_mode": {
    "name": "ipython",
    "version": 3
   },
   "file_extension": ".py",
   "mimetype": "text/x-python",
   "name": "python",
   "nbconvert_exporter": "python",
   "pygments_lexer": "ipython3",
   "version": "3.5.1"
  }
 },
 "nbformat": 4,
 "nbformat_minor": 0
}
